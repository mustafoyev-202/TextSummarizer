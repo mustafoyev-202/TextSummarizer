{
 "cells": [
  {
   "cell_type": "code",
   "id": "initial_id",
   "metadata": {
    "collapsed": true,
    "ExecuteTime": {
     "end_time": "2024-09-18T18:24:15.812240Z",
     "start_time": "2024-09-18T18:24:15.794951Z"
    }
   },
   "source": "import os",
   "outputs": [],
   "execution_count": 1
  },
  {
   "metadata": {
    "ExecuteTime": {
     "end_time": "2024-09-18T18:24:15.858799Z",
     "start_time": "2024-09-18T18:24:15.842312Z"
    }
   },
   "cell_type": "code",
   "source": "%pwd",
   "id": "daea14f016e2c525",
   "outputs": [
    {
     "data": {
      "text/plain": [
       "'D:\\\\AI Projects\\\\TextSummarizer\\\\research'"
      ]
     },
     "execution_count": 2,
     "metadata": {},
     "output_type": "execute_result"
    }
   ],
   "execution_count": 2
  },
  {
   "metadata": {
    "ExecuteTime": {
     "end_time": "2024-09-18T18:24:16.095310Z",
     "start_time": "2024-09-18T18:24:16.078876Z"
    }
   },
   "cell_type": "code",
   "source": "os.chdir('../')",
   "id": "3a1658652eb8c9d1",
   "outputs": [],
   "execution_count": 3
  },
  {
   "metadata": {
    "ExecuteTime": {
     "end_time": "2024-09-18T18:24:16.126344Z",
     "start_time": "2024-09-18T18:24:16.113826Z"
    }
   },
   "cell_type": "code",
   "source": "%pwd",
   "id": "826e47c2e0d918aa",
   "outputs": [
    {
     "data": {
      "text/plain": [
       "'D:\\\\AI Projects\\\\TextSummarizer'"
      ]
     },
     "execution_count": 4,
     "metadata": {},
     "output_type": "execute_result"
    }
   ],
   "execution_count": 4
  },
  {
   "metadata": {
    "ExecuteTime": {
     "end_time": "2024-09-18T18:24:16.173081Z",
     "start_time": "2024-09-18T18:24:16.151763Z"
    }
   },
   "cell_type": "code",
   "source": [
    "from dataclasses import dataclass\n",
    "from pathlib import Path\n",
    "\n",
    "\n",
    "@dataclass(frozen=True)\n",
    "class DataValidationConfig:\n",
    "    root_dir: Path\n",
    "    STATUS_FILE: str\n",
    "    ALL_REQUIRED_FILES: list"
   ],
   "id": "502ef6890efa93f5",
   "outputs": [],
   "execution_count": 5
  },
  {
   "metadata": {
    "ExecuteTime": {
     "end_time": "2024-09-18T18:24:16.298865Z",
     "start_time": "2024-09-18T18:24:16.194307Z"
    }
   },
   "cell_type": "code",
   "source": [
    "from TextSummarizer.constants import *\n",
    "from TextSummarizer.utils.common import read_yaml, create_directories"
   ],
   "id": "15abe273b8e68b67",
   "outputs": [],
   "execution_count": 6
  },
  {
   "metadata": {
    "ExecuteTime": {
     "end_time": "2024-09-18T18:24:16.345383Z",
     "start_time": "2024-09-18T18:24:16.333381Z"
    }
   },
   "cell_type": "code",
   "source": [
    "class ConfigurationManager:\n",
    "    def __init__(\n",
    "            self,\n",
    "            config_filepath=CONFIG_FILE_PATH,\n",
    "            params_filepath=PARAMS_FILE_PATH):\n",
    "        self.config = read_yaml(config_filepath)\n",
    "        self.params = read_yaml(params_filepath)\n",
    "\n",
    "        create_directories([self.config.artifacts_root])\n",
    "\n",
    "    def get_data_validation_config(self) -> DataValidationConfig:\n",
    "        config = self.config.data_validation\n",
    "\n",
    "        create_directories([config.root_dir])\n",
    "\n",
    "        data_validation_config = DataValidationConfig(\n",
    "            root_dir=config.root_dir,\n",
    "            STATUS_FILE=config.STATUS_FILE,\n",
    "            ALL_REQUIRED_FILES=config.ALL_REQUIRED_FILES,\n",
    "        )\n",
    "\n",
    "        return data_validation_config"
   ],
   "id": "76b44b654943b002",
   "outputs": [],
   "execution_count": 7
  },
  {
   "metadata": {
    "ExecuteTime": {
     "end_time": "2024-09-18T18:24:16.377384Z",
     "start_time": "2024-09-18T18:24:16.364386Z"
    }
   },
   "cell_type": "code",
   "source": [
    "import os\n",
    "from TextSummarizer.logging import logger"
   ],
   "id": "d06671749741ec04",
   "outputs": [],
   "execution_count": 8
  },
  {
   "metadata": {
    "ExecuteTime": {
     "end_time": "2024-09-18T18:24:16.408304Z",
     "start_time": "2024-09-18T18:24:16.394995Z"
    }
   },
   "cell_type": "code",
   "source": [
    "class DataValidation:\n",
    "    def __init__(self, config: DataValidationConfig):\n",
    "        self.config = config\n",
    "\n",
    "    def validate_all_files_exist(self) -> bool:\n",
    "        try:\n",
    "            validation_status = None\n",
    "\n",
    "            all_files = os.listdir(os.path.join(\"artifacts\", \"data_ingestion\", \"samsum_dataset\"))\n",
    "\n",
    "            for file in all_files:\n",
    "                if file not in self.config.ALL_REQUIRED_FILES:\n",
    "                    validation_status = False\n",
    "                    with open(self.config.STATUS_FILE, 'w') as f:\n",
    "                        f.write(f\"Validation status: {validation_status}\")\n",
    "                else:\n",
    "                    validation_status = True\n",
    "                    with open(self.config.STATUS_FILE, 'w') as f:\n",
    "                        f.write(f\"Validation status: {validation_status}\")\n",
    "\n",
    "            return validation_status\n",
    "\n",
    "        except Exception as e:\n",
    "            raise e"
   ],
   "id": "769983ea1fb0d63c",
   "outputs": [],
   "execution_count": 9
  },
  {
   "metadata": {
    "ExecuteTime": {
     "end_time": "2024-09-18T18:24:16.454281Z",
     "start_time": "2024-09-18T18:24:16.425539Z"
    }
   },
   "cell_type": "code",
   "source": [
    "try:\n",
    "    config = ConfigurationManager()\n",
    "    data_validation_config = config.get_data_validation_config()\n",
    "    data_validation = DataValidation(config=data_validation_config)\n",
    "    data_validation.validate_all_files_exist()\n",
    "except Exception as e:\n",
    "    raise e"
   ],
   "id": "890abe9033d0bd27",
   "outputs": [
    {
     "name": "stdout",
     "output_type": "stream",
     "text": [
      "[2024-09-18 23:24:16,431: INFO: common: yaml file:config\\config.yaml loaded successfully]\n",
      "[2024-09-18 23:24:16,434: INFO: common: yaml file:params.yaml loaded successfully]\n",
      "[2024-09-18 23:24:16,436: INFO: common: Directory created: artifacts]\n",
      "[2024-09-18 23:24:16,437: INFO: common: Directory created: artifacts/data_validation]\n"
     ]
    }
   ],
   "execution_count": 10
  },
  {
   "metadata": {
    "ExecuteTime": {
     "end_time": "2024-09-18T18:24:16.595022Z",
     "start_time": "2024-09-18T18:24:16.580915Z"
    }
   },
   "cell_type": "code",
   "source": "",
   "id": "727720e1fc7d3c4b",
   "outputs": [],
   "execution_count": null
  }
 ],
 "metadata": {
  "kernelspec": {
   "display_name": "Python 3",
   "language": "python",
   "name": "python3"
  },
  "language_info": {
   "codemirror_mode": {
    "name": "ipython",
    "version": 2
   },
   "file_extension": ".py",
   "mimetype": "text/x-python",
   "name": "python",
   "nbconvert_exporter": "python",
   "pygments_lexer": "ipython2",
   "version": "2.7.6"
  }
 },
 "nbformat": 4,
 "nbformat_minor": 5
}
