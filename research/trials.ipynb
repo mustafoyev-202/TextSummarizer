{
 "cells": [
  {
   "cell_type": "code",
   "id": "initial_id",
   "metadata": {
    "collapsed": true,
    "ExecuteTime": {
     "end_time": "2024-09-17T06:19:54.544957Z",
     "start_time": "2024-09-17T06:19:54.536438Z"
    }
   },
   "source": "d = {\"key\": \"value\", \"key1\": \"value1\"}",
   "outputs": [],
   "execution_count": 3
  },
  {
   "metadata": {
    "ExecuteTime": {
     "end_time": "2024-09-17T06:20:02.716865Z",
     "start_time": "2024-09-17T06:20:02.699606Z"
    }
   },
   "cell_type": "code",
   "source": "d['key']",
   "id": "395ea41a00c97b2a",
   "outputs": [
    {
     "data": {
      "text/plain": [
       "'value'"
      ]
     },
     "execution_count": 4,
     "metadata": {},
     "output_type": "execute_result"
    }
   ],
   "execution_count": 4
  },
  {
   "metadata": {
    "ExecuteTime": {
     "end_time": "2024-09-17T06:20:27.205560Z",
     "start_time": "2024-09-17T06:20:27.146716Z"
    }
   },
   "cell_type": "code",
   "source": "d.key",
   "id": "7ef487a358041f26",
   "outputs": [
    {
     "ename": "AttributeError",
     "evalue": "'dict' object has no attribute 'key'",
     "output_type": "error",
     "traceback": [
      "\u001B[1;31m---------------------------------------------------------------------------\u001B[0m",
      "\u001B[1;31mAttributeError\u001B[0m                            Traceback (most recent call last)",
      "Cell \u001B[1;32mIn[6], line 1\u001B[0m\n\u001B[1;32m----> 1\u001B[0m \u001B[43md\u001B[49m\u001B[38;5;241;43m.\u001B[39;49m\u001B[43mkey\u001B[49m\n",
      "\u001B[1;31mAttributeError\u001B[0m: 'dict' object has no attribute 'key'"
     ]
    }
   ],
   "execution_count": 6
  },
  {
   "metadata": {
    "ExecuteTime": {
     "end_time": "2024-09-17T06:20:43.479497Z",
     "start_time": "2024-09-17T06:20:43.389408Z"
    }
   },
   "cell_type": "code",
   "source": "from box import ConfigBox",
   "id": "22a9cccc79f9ac2",
   "outputs": [],
   "execution_count": 7
  },
  {
   "metadata": {
    "ExecuteTime": {
     "end_time": "2024-09-17T06:21:11.264163Z",
     "start_time": "2024-09-17T06:21:11.241473Z"
    }
   },
   "cell_type": "code",
   "source": "d2 = ConfigBox(d)",
   "id": "3d3a3d8351852b86",
   "outputs": [],
   "execution_count": 8
  },
  {
   "metadata": {
    "ExecuteTime": {
     "end_time": "2024-09-17T06:21:29.562621Z",
     "start_time": "2024-09-17T06:21:29.541521Z"
    }
   },
   "cell_type": "code",
   "source": "d2.key",
   "id": "2c9ab01ab5e27762",
   "outputs": [
    {
     "data": {
      "text/plain": [
       "'value'"
      ]
     },
     "execution_count": 9,
     "metadata": {},
     "output_type": "execute_result"
    }
   ],
   "execution_count": 9
  },
  {
   "metadata": {
    "ExecuteTime": {
     "end_time": "2024-09-17T06:22:30.534462Z",
     "start_time": "2024-09-17T06:22:30.523769Z"
    }
   },
   "cell_type": "code",
   "source": [
    "def get_product(x: int, y: int) -> int:\n",
    "    return x * y"
   ],
   "id": "fafe45d9050880b4",
   "outputs": [],
   "execution_count": 10
  },
  {
   "metadata": {
    "ExecuteTime": {
     "end_time": "2024-09-17T06:23:02.100755Z",
     "start_time": "2024-09-17T06:23:02.088673Z"
    }
   },
   "cell_type": "code",
   "source": "get_product(1, 2)",
   "id": "2c52426605620c20",
   "outputs": [
    {
     "data": {
      "text/plain": [
       "2"
      ]
     },
     "execution_count": 11,
     "metadata": {},
     "output_type": "execute_result"
    }
   ],
   "execution_count": 11
  },
  {
   "metadata": {
    "ExecuteTime": {
     "end_time": "2024-09-17T06:23:14.702488Z",
     "start_time": "2024-09-17T06:23:14.681689Z"
    }
   },
   "cell_type": "code",
   "source": "get_product(3, '2')",
   "id": "52fa18c34c8b2d79",
   "outputs": [
    {
     "data": {
      "text/plain": [
       "'222'"
      ]
     },
     "execution_count": 13,
     "metadata": {},
     "output_type": "execute_result"
    }
   ],
   "execution_count": 13
  },
  {
   "metadata": {
    "ExecuteTime": {
     "end_time": "2024-09-17T06:24:07.355393Z",
     "start_time": "2024-09-17T06:24:07.295711Z"
    }
   },
   "cell_type": "code",
   "source": [
    "from ensure import ensure_annotations\n",
    "\n",
    "\n",
    "@ensure_annotations\n",
    "def get_product(x: int, y: int) -> int:\n",
    "    return x * y"
   ],
   "id": "7c93c0365c32ce3a",
   "outputs": [],
   "execution_count": 14
  },
  {
   "metadata": {
    "ExecuteTime": {
     "end_time": "2024-09-17T06:24:12.455885Z",
     "start_time": "2024-09-17T06:24:12.445903Z"
    }
   },
   "cell_type": "code",
   "source": "get_product(1, 2)",
   "id": "86147f17d62c6b39",
   "outputs": [
    {
     "data": {
      "text/plain": [
       "2"
      ]
     },
     "execution_count": 15,
     "metadata": {},
     "output_type": "execute_result"
    }
   ],
   "execution_count": 15
  },
  {
   "metadata": {
    "ExecuteTime": {
     "end_time": "2024-09-17T06:24:20.729246Z",
     "start_time": "2024-09-17T06:24:20.624289Z"
    }
   },
   "cell_type": "code",
   "source": "get_product(3, '2')",
   "id": "d3d99b3f6708b8db",
   "outputs": [
    {
     "ename": "EnsureError",
     "evalue": "Argument y of type <class 'str'> to <function get_product at 0x0000013E92302200> does not match annotation type <class 'int'>",
     "output_type": "error",
     "traceback": [
      "\u001B[1;31m---------------------------------------------------------------------------\u001B[0m",
      "\u001B[1;31mEnsureError\u001B[0m                               Traceback (most recent call last)",
      "Cell \u001B[1;32mIn[16], line 1\u001B[0m\n\u001B[1;32m----> 1\u001B[0m \u001B[43mget_product\u001B[49m\u001B[43m(\u001B[49m\u001B[38;5;241;43m3\u001B[39;49m\u001B[43m,\u001B[49m\u001B[38;5;124;43m'\u001B[39;49m\u001B[38;5;124;43m2\u001B[39;49m\u001B[38;5;124;43m'\u001B[39;49m\u001B[43m)\u001B[49m\n",
      "File \u001B[1;32m~\\anaconda3\\envs\\TextSummarizer\\lib\\site-packages\\ensure\\main.py:845\u001B[0m, in \u001B[0;36mWrappedFunctionReturn.__call__\u001B[1;34m(self, *args, **kwargs)\u001B[0m\n\u001B[0;32m    840\u001B[0m     \u001B[38;5;28;01mif\u001B[39;00m \u001B[38;5;129;01mnot\u001B[39;00m \u001B[38;5;28misinstance\u001B[39m(value, templ):\n\u001B[0;32m    841\u001B[0m         msg \u001B[38;5;241m=\u001B[39m (\n\u001B[0;32m    842\u001B[0m             \u001B[38;5;124m\"\u001B[39m\u001B[38;5;124mArgument \u001B[39m\u001B[38;5;132;01m{arg}\u001B[39;00m\u001B[38;5;124m of type \u001B[39m\u001B[38;5;132;01m{valt}\u001B[39;00m\u001B[38;5;124m to \u001B[39m\u001B[38;5;132;01m{f}\u001B[39;00m\u001B[38;5;124m \u001B[39m\u001B[38;5;124m\"\u001B[39m\n\u001B[0;32m    843\u001B[0m             \u001B[38;5;124m\"\u001B[39m\u001B[38;5;124mdoes not match annotation type \u001B[39m\u001B[38;5;132;01m{t}\u001B[39;00m\u001B[38;5;124m\"\u001B[39m\n\u001B[0;32m    844\u001B[0m         )\n\u001B[1;32m--> 845\u001B[0m         \u001B[38;5;28;01mraise\u001B[39;00m EnsureError(msg\u001B[38;5;241m.\u001B[39mformat(\n\u001B[0;32m    846\u001B[0m             arg\u001B[38;5;241m=\u001B[39marg, f\u001B[38;5;241m=\u001B[39m\u001B[38;5;28mself\u001B[39m\u001B[38;5;241m.\u001B[39mf, t\u001B[38;5;241m=\u001B[39mtempl, valt\u001B[38;5;241m=\u001B[39m\u001B[38;5;28mtype\u001B[39m(value)\n\u001B[0;32m    847\u001B[0m         ))\n\u001B[0;32m    849\u001B[0m return_val \u001B[38;5;241m=\u001B[39m \u001B[38;5;28mself\u001B[39m\u001B[38;5;241m.\u001B[39mf(\u001B[38;5;241m*\u001B[39margs, \u001B[38;5;241m*\u001B[39m\u001B[38;5;241m*\u001B[39mkwargs)\n\u001B[0;32m    850\u001B[0m \u001B[38;5;28;01mif\u001B[39;00m \u001B[38;5;129;01mnot\u001B[39;00m \u001B[38;5;28misinstance\u001B[39m(return_val, \u001B[38;5;28mself\u001B[39m\u001B[38;5;241m.\u001B[39mreturn_templ):\n",
      "\u001B[1;31mEnsureError\u001B[0m: Argument y of type <class 'str'> to <function get_product at 0x0000013E92302200> does not match annotation type <class 'int'>"
     ]
    }
   ],
   "execution_count": 16
  },
  {
   "metadata": {},
   "cell_type": "code",
   "outputs": [],
   "execution_count": null,
   "source": "",
   "id": "8022034f75ce968d"
  }
 ],
 "metadata": {
  "kernelspec": {
   "display_name": "Python 3",
   "language": "python",
   "name": "python3"
  },
  "language_info": {
   "codemirror_mode": {
    "name": "ipython",
    "version": 2
   },
   "file_extension": ".py",
   "mimetype": "text/x-python",
   "name": "python",
   "nbconvert_exporter": "python",
   "pygments_lexer": "ipython2",
   "version": "2.7.6"
  }
 },
 "nbformat": 4,
 "nbformat_minor": 5
}
